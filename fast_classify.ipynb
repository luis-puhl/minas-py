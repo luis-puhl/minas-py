{
 "cells": [
  {
   "cell_type": "code",
   "execution_count": 1,
   "metadata": {},
   "outputs": [],
   "source": [
    "def minDist(clusters, item):\n",
    "    dists = map(lambda cl: (sum((cl.center - item) ** 2) ** (1/2), cl), clusters)\n",
    "    d, cl = min(dists, key=lambda x: x[0])\n",
    "    return d, cl"
   ]
  },
  {
   "cell_type": "code",
   "execution_count": 2,
   "metadata": {},
   "outputs": [],
   "source": [
    "import numpy as np\n",
    "from minas.map_minas_support import *\n",
    "np.random.seed(300)\n",
    "\n",
    "# cria lista de meta-classes contendo etiqueta, centro e desvio padrão\n",
    "classes = list(map(mkClass, range(1000)))\n",
    "\n",
    "# a partir das classes, cria objetos <minas.Cluster>\n",
    "clusters = sampleClusters(classes)\n",
    "\n",
    "# a partir das classes, cria objetos <minas.Example>\n",
    "inputStream = loopExamplesIter(classes)"
   ]
  },
  {
   "cell_type": "code",
   "execution_count": 3,
   "metadata": {},
   "outputs": [
    {
     "name": "stdout",
     "output_type": "stream",
     "text": [
      "minasOnline testSamples 1.0055515766143799 seconds, consumed 145 items, 144 i/s\n"
     ]
    }
   ],
   "source": [
    "init = time.time()\n",
    "counter = 0\n",
    "while time.time() - init < 1.0:\n",
    "    counter += 1\n",
    "    example = next(inputStream)\n",
    "    minDist(clusters, example.item)\n",
    "elapsed = time.time() - init\n",
    "print(f'minasOnline testSamples {elapsed} seconds, consumed {counter} items, {int(counter / elapsed)} i/s')"
   ]
  },
  {
   "cell_type": "code",
   "execution_count": 4,
   "metadata": {},
   "outputs": [],
   "source": [
    "examples = list(zip(range(200), inputStream))"
   ]
  },
  {
   "cell_type": "code",
   "execution_count": 5,
   "metadata": {},
   "outputs": [
    {
     "name": "stdout",
     "output_type": "stream",
     "text": [
      "minasOnline testSamples 1.486374855041504 seconds, consumed 200 items, 134 i/s\n",
      "minasOnline testSamples 1.365499496459961 seconds, consumed 200 items, 146 i/s\n",
      "minasOnline testSamples 1.3667986392974854 seconds, consumed 200 items, 146 i/s\n",
      "minasOnline testSamples 1.3588063716888428 seconds, consumed 200 items, 147 i/s\n",
      "minasOnline testSamples 1.3360075950622559 seconds, consumed 200 items, 149 i/s\n",
      "minasOnline testSamples 1.3422062397003174 seconds, consumed 200 items, 149 i/s\n",
      "minasOnline testSamples 1.3449153900146484 seconds, consumed 200 items, 148 i/s\n",
      "minasOnline testSamples 1.3675806522369385 seconds, consumed 200 items, 146 i/s\n",
      "1.35 s ± 12.3 ms per loop (mean ± std. dev. of 7 runs, 1 loop each)\n"
     ]
    }
   ],
   "source": [
    "%%timeit\n",
    "counter = 0\n",
    "results = []\n",
    "init = time.time()\n",
    "for i, example in examples:\n",
    "    counter += 1\n",
    "    result = minDist(clusters, example.item)\n",
    "    results.append(result)\n",
    "elapsed = time.time() - init\n",
    "len(results)\n",
    "print(f'minasOnline testSamples {elapsed} seconds, consumed {counter} items, {int(counter / elapsed)} i/s')"
   ]
  },
  {
   "cell_type": "code",
   "execution_count": 6,
   "metadata": {},
   "outputs": [
    {
     "data": {
      "text/html": [
       "<table style=\"border: 2px solid white;\">\n",
       "<tr>\n",
       "<td style=\"vertical-align: top; border: 0px solid white\">\n",
       "<h3>Client</h3>\n",
       "<ul>\n",
       "  <li><b>Scheduler: </b>tcp://192.168.15.14:8786\n",
       "  <li><b>Dashboard: </b><a href='http://192.168.15.14:8787/status' target='_blank'>http://192.168.15.14:8787/status</a>\n",
       "</ul>\n",
       "</td>\n",
       "<td style=\"vertical-align: top; border: 0px solid white\">\n",
       "<h3>Cluster</h3>\n",
       "<ul>\n",
       "  <li><b>Workers: </b>4</li>\n",
       "  <li><b>Cores: </b>8</li>\n",
       "  <li><b>Memory: </b>1.20 GB</li>\n",
       "</ul>\n",
       "</td>\n",
       "</tr>\n",
       "</table>"
      ],
      "text/plain": [
       "<Client: scheduler='tcp://192.168.15.14:8786' processes=4 cores=8>"
      ]
     },
     "execution_count": 6,
     "metadata": {},
     "output_type": "execute_result"
    }
   ],
   "source": [
    "import dask.distributed\n",
    "cli = dask.distributed.Client('tcp://192.168.15.14:8786', )\n",
    "cli"
   ]
  },
  {
   "cell_type": "code",
   "execution_count": 7,
   "metadata": {},
   "outputs": [],
   "source": [
    "import dask\n",
    "import dask.bag as db\n",
    "\n",
    "@dask.delayed\n",
    "def minDistDelayed(clusters, item):\n",
    "    dists = map(lambda cl: (sum((cl[1] - item) ** 2) ** (1/2), cl[0]), clusters)\n",
    "    d, cl = min(dists, key=lambda x: x[0])\n",
    "    return d, cl\n",
    "# init = time.time()\n",
    "# counter = 0\n",
    "# simpleClusters = [(id(cl), cl.center) for cl in clusters]\n",
    "# simpleClusters = db.from_sequence(simpleClusters)\n",
    "# cli.persist(simpleClusters)\n",
    "# simpleClusters = cli.scatter(simpleClusters)\n",
    "# results = []\n",
    "# while time.time() - init < 1.0:\n",
    "#     counter += 1\n",
    "#     example = next(inputStream)\n",
    "#     results.append(minDistDelayed(simpleClusters, example.item))\n",
    "# dask.compute(results)\n",
    "# elapsed = time.time() - init\n",
    "# print(f'minasOnline testSamples {elapsed} seconds, consumed {counter} items, {int(counter / elapsed)} i/s')"
   ]
  },
  {
   "cell_type": "code",
   "execution_count": 8,
   "metadata": {},
   "outputs": [
    {
     "name": "stdout",
     "output_type": "stream",
     "text": [
      "loop 0.008395671844482422 seconds\n",
      "minasOnline testSamples 4.998846530914307 seconds, consumed 200 items, 40 i/s\n",
      "loop 0.007643461227416992 seconds\n",
      "minasOnline testSamples 4.948642253875732 seconds, consumed 200 items, 40 i/s\n",
      "loop 0.008357763290405273 seconds\n",
      "minasOnline testSamples 5.433340311050415 seconds, consumed 200 items, 36 i/s\n",
      "loop 0.010403156280517578 seconds\n",
      "minasOnline testSamples 5.19452977180481 seconds, consumed 200 items, 38 i/s\n",
      "loop 0.010891199111938477 seconds\n",
      "minasOnline testSamples 5.343637943267822 seconds, consumed 200 items, 37 i/s\n",
      "loop 0.008081912994384766 seconds\n",
      "minasOnline testSamples 5.514289379119873 seconds, consumed 200 items, 36 i/s\n",
      "loop 0.010305404663085938 seconds\n",
      "minasOnline testSamples 5.370033502578735 seconds, consumed 200 items, 37 i/s\n",
      "loop 0.01108694076538086 seconds\n",
      "minasOnline testSamples 4.7529261112213135 seconds, consumed 200 items, 42 i/s\n",
      "5.35 s ± 258 ms per loop (mean ± std. dev. of 7 runs, 1 loop each)\n"
     ]
    }
   ],
   "source": [
    "%%timeit\n",
    "counter = 0\n",
    "simpleClusters = [(id(cl), cl.center) for cl in clusters]\n",
    "simpleClusters = db.from_sequence(simpleClusters)\n",
    "cli.persist(simpleClusters)\n",
    "simpleClusters = cli.scatter(simpleClusters)\n",
    "results = []\n",
    "init = time.time()\n",
    "for i, example in examples:\n",
    "    counter += 1\n",
    "    result = minDistDelayed(simpleClusters, example.item)\n",
    "    results.append(result)\n",
    "elapsed = time.time() - init\n",
    "print(f'loop {elapsed} seconds')\n",
    "init = time.time()\n",
    "dask.compute(results)\n",
    "elapsed = time.time() - init\n",
    "print(f'minasOnline testSamples {elapsed} seconds, consumed {counter} items, {int(counter / elapsed)} i/s')"
   ]
  },
  {
   "cell_type": "code",
   "execution_count": 9,
   "metadata": {},
   "outputs": [],
   "source": [
    "import dask\n",
    "import dask.bag as db\n",
    "\n",
    "def minDistSimple(clusters, item):\n",
    "    dists = map(lambda cl: (sum((cl[1] - item) ** 2) ** (1/2), cl[0]), clusters)\n",
    "    d, cl = min(dists, key=lambda x: x[0])\n",
    "    return d, cl"
   ]
  },
  {
   "cell_type": "code",
   "execution_count": 10,
   "metadata": {},
   "outputs": [],
   "source": [
    "init = time.time()\n",
    "counter = 0\n",
    "simpleClusters = [(id(cl), cl.center) for cl in clusters]\n",
    "simpleClusters = db.from_sequence(simpleClusters)\n",
    "cli.persist(simpleClusters)\n",
    "simpleClusters = cli.scatter(simpleClusters)\n",
    "futures = []\n",
    "while time.time() - init < 1.0:\n",
    "    counter += 1\n",
    "    example = next(inputStream)\n",
    "    future = cli.submit(minDistSimple, simpleClusters, example.item)\n",
    "    futures.append(future)"
   ]
  },
  {
   "cell_type": "code",
   "execution_count": 11,
   "metadata": {},
   "outputs": [
    {
     "name": "stdout",
     "output_type": "stream",
     "text": [
      "minasOnline testSamples 64.23640584945679 seconds, consumed 2191 items, 34 i/s\n"
     ]
    }
   ],
   "source": [
    "results = cli.gather(futures)\n",
    "elapsed = time.time() - init\n",
    "print(f'minasOnline testSamples {elapsed} seconds, consumed {counter} items, {int(counter / elapsed)} i/s')"
   ]
  },
  {
   "cell_type": "code",
   "execution_count": 13,
   "metadata": {},
   "outputs": [],
   "source": [
    "# %%timeit\n",
    "# import pandas as pd\n",
    "# from sklearn.datasets import fetch_covtype\n",
    "# covtype = fetch_covtype()\n",
    "# total = len(covtype.data)\n",
    "\n",
    "# zipToMap = lambda x: {'item': x[0], 'label': str(x[1])}\n",
    "# onePercent = int(total*0.01)\n",
    "# baseMap = map(zipToMap, zip(covtype.data[:onePercent], covtype.target[:onePercent]))\n",
    "# onPercentDataFrame = pd.DataFrame(baseMap)\n",
    "\n",
    "# clusters = minasOffline(onPercentDataFrame)\n",
    "# print(len(clusters))"
   ]
  },
  {
   "cell_type": "code",
   "execution_count": 14,
   "metadata": {},
   "outputs": [
    {
     "name": "stdout",
     "output_type": "stream",
     "text": [
      "loop submit 0.06345081329345703 seconds\n",
      "minasOnline submit 5.4314656257629395 seconds, consumed 200 items, 36 i/s\n"
     ]
    }
   ],
   "source": [
    "counter = 0\n",
    "simpleClusters = [(id(cl), cl.center) for cl in clusters]\n",
    "simpleClusters = db.from_sequence(simpleClusters)\n",
    "cli.persist(simpleClusters)\n",
    "simpleClusters = cli.scatter(simpleClusters)\n",
    "futures = []\n",
    "init = time.time()\n",
    "for i, example in examples:\n",
    "    counter += 1\n",
    "    future = cli.submit(minDistSimple, simpleClusters, example.item)\n",
    "    futures.append(future)\n",
    "elapsed = time.time() - init\n",
    "print(f'loop submit {elapsed} seconds')\n",
    "init = time.time()\n",
    "results = cli.gather(futures)\n",
    "elapsed = time.time() - init\n",
    "print(f'minasOnline submit {elapsed} seconds, consumed {counter} items, {int(counter / elapsed)} i/s')"
   ]
  },
  {
   "cell_type": "code",
   "execution_count": 16,
   "metadata": {},
   "outputs": [],
   "source": [
    "# counter = 0\n",
    "# localClusters = [(id(cl), cl.center) for cl in clusters]\n",
    "# simpleClusters = db.from_sequence(localClusters)\n",
    "# cli.persist(simpleClusters)\n",
    "# simpleClusters = cli.scatter(simpleClusters)\n",
    "# futures = []\n",
    "# init = time.time()\n",
    "# for i, example in examples:\n",
    "#     counter += 1\n",
    "#     item = example.item\n",
    "#     #\n",
    "#     def d\n",
    "#     for cl in simpleClusters:\n",
    "#         for c, x in zip(cl[1], item):\n",
    "#             s = (c - x) ** 2\n",
    "#         d = s ** (1/2), cl[0]\n",
    "        \n",
    "#     dists = cli.map(lambda cl: (), localClusters)\n",
    "#     future = cli.submit(min, dists, key=lambda x: x[0])\n",
    "#     #\n",
    "#     # future = cli.submit(minDistSimple, simpleClusters, example.item)\n",
    "#     futures.append(future)\n",
    "# elapsed = time.time() - init\n",
    "# print(f'loop submit {elapsed} seconds')\n",
    "# init = time.time()\n",
    "# results = cli.gather(futures)\n",
    "# elapsed = time.time() - init\n",
    "# print(f'minasOnline submit {elapsed} seconds, consumed {counter} items, {int(counter / elapsed)} i/s')"
   ]
  },
  {
   "cell_type": "code",
   "execution_count": 17,
   "metadata": {},
   "outputs": [],
   "source": [
    "from dask import delayed\n",
    "@delayed\n",
    "def sub(a, b):\n",
    "    return a - b\n",
    "@delayed\n",
    "def sqr(a, b):\n",
    "    return a ** b\n",
    "@delayed\n",
    "def summ(a, b):\n",
    "    return a + b\n",
    "@delayed\n",
    "def extractI(x, i):\n",
    "    return x[i]\n",
    "#\n",
    "localClusters = [(id(cl), cl.center) for cl in clusters]\n",
    "dimentions = len(clusters[0].center)"
   ]
  },
  {
   "cell_type": "code",
   "execution_count": null,
   "metadata": {},
   "outputs": [],
   "source": [
    "init = time.time()\n",
    "outStream = []\n",
    "scatterClusters = cli.scatter(localClusters)\n",
    "k = None\n",
    "result = None\n",
    "for i, example in examples:\n",
    "    scatterItem = cli.scatter(example.item)\n",
    "    dists = []\n",
    "    for cl in scatterClusters:\n",
    "        # c = []\n",
    "#         for i in range(dimentions):\n",
    "#             ci = extractI(extractI(cl, 1), i)\n",
    "#             xi = extractI(scatterItem, i)\n",
    "        ci = extractI(cl, 1)\n",
    "        xi = scatterItem\n",
    "        a = sub(ci, xi)\n",
    "        b = sqr(a, 2)\n",
    "        # c.append(b)\n",
    "        s = delayed(sum)(b)\n",
    "        d = (s ** (1/2), extractI(cl, 0))\n",
    "        dists.append(d)\n",
    "    result = delayed(min)(dists, key=lambda x: x[0])\n",
    "    result = result.compute()\n",
    "    for cl in clusters:\n",
    "        if id(cl) == result[1]:\n",
    "            outStream.append((result[0], cl))\n",
    "print(time.time() - init, 'secods')"
   ]
  },
  {
   "cell_type": "code",
   "execution_count": null,
   "metadata": {},
   "outputs": [],
   "source": [
    "result.visualize(rankdir=\"LR\")"
   ]
  },
  {
   "cell_type": "code",
   "execution_count": null,
   "metadata": {},
   "outputs": [],
   "source": [
    "result.compute()"
   ]
  },
  {
   "cell_type": "code",
   "execution_count": null,
   "metadata": {},
   "outputs": [],
   "source": [
    "(len(outStream), outStream[0])"
   ]
  },
  {
   "cell_type": "code",
   "execution_count": 42,
   "metadata": {},
   "outputs": [
    {
     "name": "stdout",
     "output_type": "stream",
     "text": [
      "CPU times: user 160 ms, sys: 6.31 ms, total: 167 ms\n",
      "Wall time: 243 ms\n"
     ]
    }
   ],
   "source": [
    "%%time\n",
    "outStream = []\n",
    "scatterClusters = cli.scatter(localClusters, broadcast=True)\n",
    "k = None\n",
    "result = None"
   ]
  },
  {
   "cell_type": "code",
   "execution_count": 43,
   "metadata": {},
   "outputs": [
    {
     "name": "stdout",
     "output_type": "stream",
     "text": [
      "CPU times: user 2.9 ms, sys: 3.28 ms, total: 6.17 ms\n",
      "Wall time: 8.07 ms\n"
     ]
    }
   ],
   "source": [
    "%%time\n",
    "i, example = examples[0]\n",
    "scatterItem = cli.scatter(example.item, broadcast=True)"
   ]
  },
  {
   "cell_type": "code",
   "execution_count": 44,
   "metadata": {},
   "outputs": [
    {
     "name": "stdout",
     "output_type": "stream",
     "text": [
      "CPU times: user 121 ms, sys: 13.4 ms, total: 135 ms\n",
      "Wall time: 132 ms\n"
     ]
    }
   ],
   "source": [
    "%%time\n",
    "@delayed\n",
    "def ddd(cl, item):\n",
    "    ci = cl[1]\n",
    "    d = sum((ci - item) ** 2) ** (1/2)\n",
    "    return (d, cl[0])\n",
    "dists = []\n",
    "for cl in scatterClusters:\n",
    "    dists.append(ddd(cl, scatterItem))\n",
    "result = delayed(min)(dists, key=lambda x: x[0])"
   ]
  },
  {
   "cell_type": "code",
   "execution_count": 45,
   "metadata": {},
   "outputs": [],
   "source": [
    "# result.visualize(rankdir=\"LR\")"
   ]
  },
  {
   "cell_type": "code",
   "execution_count": 46,
   "metadata": {},
   "outputs": [
    {
     "name": "stdout",
     "output_type": "stream",
     "text": [
      "CPU times: user 73.6 ms, sys: 6.72 ms, total: 80.3 ms\n",
      "Wall time: 2.16 s\n"
     ]
    }
   ],
   "source": [
    "%%time\n",
    "result = result.compute()"
   ]
  },
  {
   "cell_type": "code",
   "execution_count": 47,
   "metadata": {},
   "outputs": [
    {
     "name": "stdout",
     "output_type": "stream",
     "text": [
      "CPU times: user 58 µs, sys: 2 µs, total: 60 µs\n",
      "Wall time: 64.1 µs\n"
     ]
    }
   ],
   "source": [
    "%%time\n",
    "for cl in clusters:\n",
    "    if id(cl) == result[1]:\n",
    "        outStream.append((result[0], cl))\n",
    "        break"
   ]
  },
  {
   "cell_type": "code",
   "execution_count": 48,
   "metadata": {},
   "outputs": [
    {
     "data": {
      "text/plain": [
       "(0.00559067433484581,\n",
       " Cluster(label=247, n=1, latest=0, timestamp=1558627743898632960, lastExapleTMS=0, maxDistance=0.0, meanDistance=0.9994292921076391, sumDistance=0.9994292921076391, rolingVarianceSum=0.9994292921076391, stdDev=0.9994292921076391))"
      ]
     },
     "execution_count": 48,
     "metadata": {},
     "output_type": "execute_result"
    }
   ],
   "source": [
    "outStream[0]"
   ]
  },
  {
   "cell_type": "code",
   "execution_count": 49,
   "metadata": {},
   "outputs": [
    {
     "name": "stdout",
     "output_type": "stream",
     "text": [
      "1032.34299325943 secods\n"
     ]
    }
   ],
   "source": [
    "init = time.time()\n",
    "outStream = []\n",
    "scatterClusters = cli.scatter(localClusters)\n",
    "k = None\n",
    "result = None\n",
    "for i, example in examples:\n",
    "    scatterItem = cli.scatter(example.item)\n",
    "    dists = []\n",
    "    for cl in scatterClusters:\n",
    "        dists.append(ddd(cl, scatterItem))\n",
    "    result = delayed(min)(dists, key=lambda x: x[0])\n",
    "    result = result.compute()\n",
    "    for cl in clusters:\n",
    "        if id(cl) == result[1]:\n",
    "            outStream.append((result[0], cl))\n",
    "print(time.time() - init, 'secods')"
   ]
  },
  {
   "cell_type": "code",
   "execution_count": null,
   "metadata": {},
   "outputs": [],
   "source": [
    "init = time.time()\n",
    "outStream = []\n",
    "scatterClusters = cli.scatter(localClusters)\n",
    "k = None\n",
    "result = None\n",
    "for i, example in examples:\n",
    "    scatterItem = cli.scatter(example.item)\n",
    "    dists = []\n",
    "    for cl in scatterClusters:\n",
    "        dists.append(ddd(cl, scatterItem))\n",
    "    result = delayed(min)(dists, key=lambda x: x[0])\n",
    "    result = result.compute()\n",
    "    for cl in clusters:\n",
    "        if id(cl) == result[1]:\n",
    "            outStream.append((result[0], cl))\n",
    "elapsed = time.time() - init\n",
    "counter =  len(outStream)\n",
    "print(f'minasOnline submit {elapsed} seconds, consumed {counter} items, {int(counter / elapsed)} i/s')"
   ]
  }
 ],
 "metadata": {
  "kernelspec": {
   "display_name": "Python 3",
   "language": "python",
   "name": "python3"
  },
  "language_info": {
   "codemirror_mode": {
    "name": "ipython",
    "version": 3
   },
   "file_extension": ".py",
   "mimetype": "text/x-python",
   "name": "python",
   "nbconvert_exporter": "python",
   "pygments_lexer": "ipython3",
   "version": "3.7.3"
  }
 },
 "nbformat": 4,
 "nbformat_minor": 2
}
