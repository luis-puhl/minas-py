{
 "cells": [
  {
   "cell_type": "code",
   "execution_count": 1,
   "metadata": {},
   "outputs": [],
   "source": [
    "def minDist(clusters, item):\n",
    "    dists = map(lambda cl: (sum((cl.center - item) ** 2) ** (1/2), cl), clusters)\n",
    "    d, cl = min(dists, key=lambda x: x[0])\n",
    "    return d, cl"
   ]
  },
  {
   "cell_type": "code",
   "execution_count": 2,
   "metadata": {},
   "outputs": [],
   "source": [
    "import numpy as np\n",
    "from minas.map_minas_support import *\n",
    "np.random.seed(300)\n",
    "\n",
    "# cria lista de meta-classes contendo etiqueta, centro e desvio padrão\n",
    "classes = list(map(mkClass, range(1000)))\n",
    "\n",
    "# a partir das classes, cria objetos <minas.Cluster>\n",
    "clusters = sampleClusters(classes)\n",
    "\n",
    "# a partir das classes, cria objetos <minas.Example>\n",
    "inputStream = loopExamplesIter(classes)"
   ]
  },
  {
   "cell_type": "code",
   "execution_count": 3,
   "metadata": {},
   "outputs": [
    {
     "name": "stdout",
     "output_type": "stream",
     "text": [
      "minasOnline testSamples 1.0039143562316895 seconds, consumed 152 items, 151 i/s\n"
     ]
    }
   ],
   "source": [
    "init = time.time()\n",
    "counter = 0\n",
    "while time.time() - init < 1.0:\n",
    "    counter += 1\n",
    "    example = next(inputStream)\n",
    "    minDist(clusters, example.item)\n",
    "elapsed = time.time() - init\n",
    "print(f'minasOnline testSamples {elapsed} seconds, consumed {counter} items, {int(counter / elapsed)} i/s')"
   ]
  },
  {
   "cell_type": "code",
   "execution_count": 4,
   "metadata": {},
   "outputs": [],
   "source": [
    "examples = list(zip(range(200), inputStream))"
   ]
  },
  {
   "cell_type": "code",
   "execution_count": 18,
   "metadata": {},
   "outputs": [
    {
     "name": "stdout",
     "output_type": "stream",
     "text": [
      "minasOnline testSamples 1.5145623683929443 seconds, consumed 200 items, 132 i/s\n",
      "minasOnline testSamples 1.4813456535339355 seconds, consumed 200 items, 135 i/s\n",
      "minasOnline testSamples 1.5256237983703613 seconds, consumed 200 items, 131 i/s\n",
      "minasOnline testSamples 1.4844377040863037 seconds, consumed 200 items, 134 i/s\n",
      "minasOnline testSamples 1.457089900970459 seconds, consumed 200 items, 137 i/s\n",
      "minasOnline testSamples 1.4590590000152588 seconds, consumed 200 items, 137 i/s\n",
      "minasOnline testSamples 1.5104143619537354 seconds, consumed 200 items, 132 i/s\n",
      "minasOnline testSamples 1.5397577285766602 seconds, consumed 200 items, 129 i/s\n",
      "1.49 s ± 29.7 ms per loop (mean ± std. dev. of 7 runs, 1 loop each)\n"
     ]
    }
   ],
   "source": [
    "%%timeit\n",
    "counter = 0\n",
    "results = []\n",
    "init = time.time()\n",
    "for i, example in examples:\n",
    "    counter += 1\n",
    "    result = minDist(clusters, example.item)\n",
    "    results.append(result)\n",
    "elapsed = time.time() - init\n",
    "len(results)\n",
    "print(f'minasOnline testSamples {elapsed} seconds, consumed {counter} items, {int(counter / elapsed)} i/s')"
   ]
  },
  {
   "cell_type": "code",
   "execution_count": 6,
   "metadata": {},
   "outputs": [
    {
     "data": {
      "text/html": [
       "<table style=\"border: 2px solid white;\">\n",
       "<tr>\n",
       "<td style=\"vertical-align: top; border: 0px solid white\">\n",
       "<h3>Client</h3>\n",
       "<ul>\n",
       "  <li><b>Scheduler: </b>tcp://192.168.15.14:8786\n",
       "  <li><b>Dashboard: </b><a href='http://192.168.15.14:8787/status' target='_blank'>http://192.168.15.14:8787/status</a>\n",
       "</ul>\n",
       "</td>\n",
       "<td style=\"vertical-align: top; border: 0px solid white\">\n",
       "<h3>Cluster</h3>\n",
       "<ul>\n",
       "  <li><b>Workers: </b>4</li>\n",
       "  <li><b>Cores: </b>8</li>\n",
       "  <li><b>Memory: </b>12.46 GB</li>\n",
       "</ul>\n",
       "</td>\n",
       "</tr>\n",
       "</table>"
      ],
      "text/plain": [
       "<Client: scheduler='tcp://192.168.15.14:8786' processes=4 cores=8>"
      ]
     },
     "execution_count": 6,
     "metadata": {},
     "output_type": "execute_result"
    }
   ],
   "source": [
    "import dask.distributed\n",
    "cli = dask.distributed.Client('tcp://192.168.15.14:8786', )\n",
    "cli"
   ]
  },
  {
   "cell_type": "code",
   "execution_count": 9,
   "metadata": {},
   "outputs": [],
   "source": [
    "import dask\n",
    "import dask.bag as db\n",
    "\n",
    "@dask.delayed\n",
    "def minDistDelayed(clusters, item):\n",
    "    dists = map(lambda cl: (sum((cl[1] - item) ** 2) ** (1/2), cl[0]), clusters)\n",
    "    d, cl = min(dists, key=lambda x: x[0])\n",
    "    return d, cl\n",
    "# init = time.time()\n",
    "# counter = 0\n",
    "# simpleClusters = [(id(cl), cl.center) for cl in clusters]\n",
    "# simpleClusters = db.from_sequence(simpleClusters)\n",
    "# cli.persist(simpleClusters)\n",
    "# simpleClusters = cli.scatter(simpleClusters)\n",
    "# results = []\n",
    "# while time.time() - init < 1.0:\n",
    "#     counter += 1\n",
    "#     example = next(inputStream)\n",
    "#     results.append(minDistDelayed(simpleClusters, example.item))\n",
    "# dask.compute(results)\n",
    "# elapsed = time.time() - init\n",
    "# print(f'minasOnline testSamples {elapsed} seconds, consumed {counter} items, {int(counter / elapsed)} i/s')"
   ]
  },
  {
   "cell_type": "code",
   "execution_count": 17,
   "metadata": {},
   "outputs": [
    {
     "name": "stdout",
     "output_type": "stream",
     "text": [
      "loop 0.009139537811279297 seconds\n",
      "minasOnline testSamples 5.950003147125244 seconds, consumed 200 items, 33 i/s\n",
      "loop 0.010687589645385742 seconds\n",
      "minasOnline testSamples 5.447688341140747 seconds, consumed 200 items, 36 i/s\n",
      "loop 0.008136987686157227 seconds\n",
      "minasOnline testSamples 6.795172452926636 seconds, consumed 200 items, 29 i/s\n",
      "loop 0.017217397689819336 seconds\n",
      "minasOnline testSamples 8.889552593231201 seconds, consumed 200 items, 22 i/s\n",
      "loop 0.013754844665527344 seconds\n",
      "minasOnline testSamples 7.059620141983032 seconds, consumed 200 items, 28 i/s\n",
      "loop 0.008990287780761719 seconds\n",
      "minasOnline testSamples 8.9894859790802 seconds, consumed 200 items, 22 i/s\n",
      "loop 0.017444133758544922 seconds\n",
      "minasOnline testSamples 10.18173623085022 seconds, consumed 200 items, 19 i/s\n",
      "loop 0.016421794891357422 seconds\n",
      "minasOnline testSamples 9.675263166427612 seconds, consumed 200 items, 20 i/s\n",
      "8.33 s ± 1.64 s per loop (mean ± std. dev. of 7 runs, 1 loop each)\n"
     ]
    }
   ],
   "source": [
    "%%timeit\n",
    "counter = 0\n",
    "simpleClusters = [(id(cl), cl.center) for cl in clusters]\n",
    "simpleClusters = db.from_sequence(simpleClusters)\n",
    "cli.persist(simpleClusters)\n",
    "simpleClusters = cli.scatter(simpleClusters)\n",
    "results = []\n",
    "init = time.time()\n",
    "for i, example in examples:\n",
    "    counter += 1\n",
    "    result = minDistDelayed(simpleClusters, example.item)\n",
    "    results.append(result)\n",
    "elapsed = time.time() - init\n",
    "print(f'loop {elapsed} seconds')\n",
    "init = time.time()\n",
    "dask.compute(results)\n",
    "elapsed = time.time() - init\n",
    "print(f'minasOnline testSamples {elapsed} seconds, consumed {counter} items, {int(counter / elapsed)} i/s')"
   ]
  },
  {
   "cell_type": "code",
   "execution_count": 15,
   "metadata": {},
   "outputs": [],
   "source": [
    "import dask\n",
    "import dask.bag as db\n",
    "\n",
    "def minDistSimple(clusters, item):\n",
    "    dists = map(lambda cl: (sum((cl[1] - item) ** 2) ** (1/2), cl[0]), clusters)\n",
    "    d, cl = min(dists, key=lambda x: x[0])\n",
    "    return d, cl"
   ]
  },
  {
   "cell_type": "code",
   "execution_count": null,
   "metadata": {},
   "outputs": [],
   "source": [
    "init = time.time()\n",
    "counter = 0\n",
    "simpleClusters = [(id(cl), cl.center) for cl in clusters]\n",
    "simpleClusters = db.from_sequence(simpleClusters)\n",
    "cli.persist(simpleClusters)\n",
    "simpleClusters = cli.scatter(simpleClusters)\n",
    "futures = []\n",
    "while time.time() - init < 1.0:\n",
    "    counter += 1\n",
    "    example = next(inputStream)\n",
    "    future = cli.submit(minDistSimple, simpleClusters, example.item)\n",
    "    futures.append(future)"
   ]
  },
  {
   "cell_type": "code",
   "execution_count": null,
   "metadata": {},
   "outputs": [],
   "source": [
    "results = cli.gather(futures)\n",
    "elapsed = time.time() - init\n",
    "print(f'minasOnline testSamples {elapsed} seconds, consumed {counter} items, {int(counter / elapsed)} i/s')"
   ]
  },
  {
   "cell_type": "code",
   "execution_count": null,
   "metadata": {},
   "outputs": [],
   "source": [
    "%%timeit\n",
    "import pandas as pd\n",
    "from sklearn.datasets import fetch_covtype\n",
    "covtype = fetch_covtype()\n",
    "total = len(covtype.data)\n",
    "\n",
    "zipToMap = lambda x: {'item': x[0], 'label': str(x[1])}\n",
    "onePercent = int(total*0.01)\n",
    "baseMap = map(zipToMap, zip(covtype.data[:onePercent], covtype.target[:onePercent]))\n",
    "onPercentDataFrame = pd.DataFrame(baseMap)\n",
    "\n",
    "clusters = minasOffline(onPercentDataFrame)\n",
    "print(len(clusters))"
   ]
  },
  {
   "cell_type": "code",
   "execution_count": 16,
   "metadata": {},
   "outputs": [],
   "source": [
    "counter = 0\n",
    "simpleClusters = [(id(cl), cl.center) for cl in clusters]\n",
    "simpleClusters = db.from_sequence(simpleClusters)\n",
    "cli.persist(simpleClusters)\n",
    "simpleClusters = cli.scatter(simpleClusters)\n",
    "futures = []\n",
    "init = time.time()\n",
    "for i, example in examples:\n",
    "    counter += 1\n",
    "    future = cli.submit(minDistSimple, simpleClusters, example.item)\n",
    "    futures.append(future)\n",
    "elapsed = time.time() - init\n",
    "print(f'loop submit {elapsed} seconds')\n",
    "init = time.time()\n",
    "results = cli.gather(futures)\n",
    "elapsed = time.time() - init\n",
    "print(f'minasOnline submit {elapsed} seconds, consumed {counter} items, {int(counter / elapsed)} i/s')"
   ]
  },
  {
   "cell_type": "code",
   "execution_count": 20,
   "metadata": {},
   "outputs": [
    {
     "name": "stdout",
     "output_type": "stream",
     "text": [
      "loop submit 68.95565295219421 seconds\n",
      "minasOnline submit 89.48315143585205 seconds, consumed 200 items, 2 i/s\n"
     ]
    }
   ],
   "source": [
    "counter = 0\n",
    "localClusters = [(id(cl), cl.center) for cl in clusters]\n",
    "simpleClusters = db.from_sequence(localClusters)\n",
    "cli.persist(simpleClusters)\n",
    "simpleClusters = cli.scatter(simpleClusters)\n",
    "futures = []\n",
    "init = time.time()\n",
    "for i, example in examples:\n",
    "    counter += 1\n",
    "    item = example.item\n",
    "    #\n",
    "    def d\n",
    "    for cl in simpleClusters:\n",
    "        for c, x in zip(cl[1], item):\n",
    "            s = (c - x) ** 2\n",
    "        d = s ** (1/2), cl[0]\n",
    "        \n",
    "    dists = cli.map(lambda cl: (), localClusters)\n",
    "    future = cli.submit(min, dists, key=lambda x: x[0])\n",
    "    #\n",
    "    # future = cli.submit(minDistSimple, simpleClusters, example.item)\n",
    "    futures.append(future)\n",
    "elapsed = time.time() - init\n",
    "print(f'loop submit {elapsed} seconds')\n",
    "init = time.time()\n",
    "results = cli.gather(futures)\n",
    "elapsed = time.time() - init\n",
    "print(f'minasOnline submit {elapsed} seconds, consumed {counter} items, {int(counter / elapsed)} i/s')"
   ]
  },
  {
   "cell_type": "code",
   "execution_count": null,
   "metadata": {},
   "outputs": [],
   "source": [
    "from dask import delayed\n",
    "@delayed\n",
    "def sub(a, b):\n",
    "    return a - b\n",
    "@delayed\n",
    "def sqr(a, b):\n",
    "    return a ** b\n",
    "@delayed\n",
    "def summ(a, b):\n",
    "    return a + b\n",
    "@delayed\n",
    "def extractI(x, i):\n",
    "    return x[i]\n",
    "#\n",
    "localClusters = [(id(cl), cl.center) for cl in clusters]\n",
    "dimentions = len(clusters[0].center)\n",
    "scatterClusters = cli.scatter(localClusters)\n",
    "k = None\n",
    "result = None\n",
    "for i, example in examples:\n",
    "    scatterItem = cli.scatter(example.item)\n",
    "    dists = []\n",
    "    for cl in scatterClusters:\n",
    "        c = []\n",
    "#         for i in range(dimentions):\n",
    "#             ci = extractI(extractI(cl, 1), i)\n",
    "#             xi = extractI(scatterItem, i)\n",
    "        a = sub(ci, xi)\n",
    "        b = sqr(a, 2)\n",
    "        c.append(b)\n",
    "        s = delayed(sum)(c)\n",
    "        d = (s ** (1/2), extractI(cl, 0))\n",
    "        dists.append(d)\n",
    "    result = delayed(min)(dists, key=lambda x: x[0])"
   ]
  },
  {
   "cell_type": "code",
   "execution_count": null,
   "metadata": {},
   "outputs": [],
   "source": [
    "result.visualize()"
   ]
  },
  {
   "cell_type": "code",
   "execution_count": null,
   "metadata": {},
   "outputs": [],
   "source": [
    "result = rs.compute()"
   ]
  }
 ],
 "metadata": {
  "kernelspec": {
   "display_name": "Python 3",
   "language": "python",
   "name": "python3"
  },
  "language_info": {
   "codemirror_mode": {
    "name": "ipython",
    "version": 3
   },
   "file_extension": ".py",
   "mimetype": "text/x-python",
   "name": "python",
   "nbconvert_exporter": "python",
   "pygments_lexer": "ipython3",
   "version": "3.7.3"
  }
 },
 "nbformat": 4,
 "nbformat_minor": 2
}
