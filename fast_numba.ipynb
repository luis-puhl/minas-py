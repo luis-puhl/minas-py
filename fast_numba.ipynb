{
 "cells": [
  {
   "cell_type": "code",
   "execution_count": 3,
   "metadata": {},
   "outputs": [],
   "source": [
    "import numpy as np\n",
    "from minas.map_minas_support import *\n",
    "np.random.seed(300)\n",
    "classes = list(map(mkClass, range(1000)))\n",
    "clusters = sampleClusters(classes)\n",
    "inputStream = loopExamplesIter(classes)\n",
    "examples = list(zip(range(200), inputStream))"
   ]
  },
  {
   "cell_type": "code",
   "execution_count": 4,
   "metadata": {},
   "outputs": [
    {
     "name": "stdout",
     "output_type": "stream",
     "text": [
      "minasOnline testSamples 1.3196775913238525 seconds, consumed 200 items, 151 i/s\n"
     ]
    }
   ],
   "source": [
    "def minDist(clusters, item):\n",
    "    dists = map(lambda cl: (sum((cl.center - item) ** 2) ** (1/2), cl), clusters)\n",
    "    d, cl = min(dists, key=lambda x: x[0])\n",
    "    return d, cl\n",
    "counter = 0\n",
    "results = []\n",
    "init = time.time()\n",
    "for i, example in examples:\n",
    "    counter += 1\n",
    "    result = minDist(clusters, example.item)\n",
    "    results.append(result)\n",
    "elapsed = time.time() - init\n",
    "len(results)\n",
    "print(f'minasOnline testSamples {elapsed} seconds, consumed {counter} items, {int(counter / elapsed)} i/s')"
   ]
  },
  {
   "cell_type": "code",
   "execution_count": 21,
   "metadata": {},
   "outputs": [
    {
     "name": "stdout",
     "output_type": "stream",
     "text": [
      "CPU times: user 568 ms, sys: 3.25 ms, total: 572 ms\n",
      "Wall time: 573 ms\n"
     ]
    }
   ],
   "source": [
    "%%time\n",
    "from numba import jit\n",
    "\n",
    "@jit(nopython=True)\n",
    "def minDistJIT(clusters, item):\n",
    "    dists = []\n",
    "    for cl in clusters:\n",
    "        center = cl[1]\n",
    "        d = np.sum((center - item) ** 2) ** (1/2)\n",
    "        # return (d, cl[0])\n",
    "        dists.append((d, cl[0]))\n",
    "    # dists = map(lambda cl: (sum((cl[1] - item) ** 2) ** (1/2), cl[0]), clusters)\n",
    "    min_d: float = -1\n",
    "    min_clId: int = -1\n",
    "    for d, clId in dists:\n",
    "        if min_d == -1 or min_d > d:\n",
    "            min_d = d\n",
    "            min_clId = clId\n",
    "    return min_d, min_clId\n",
    "minDistJIT(clusters=[ (0, np.array([0,0])) ], item=np.array([0,0]))"
   ]
  },
  {
   "cell_type": "code",
   "execution_count": 22,
   "metadata": {},
   "outputs": [
    {
     "name": "stdout",
     "output_type": "stream",
     "text": [
      "minasOnline testSamples 10.152459383010864 seconds, consumed 200 items, 19 i/s\n"
     ]
    }
   ],
   "source": [
    "localClusters = [(id(cl), cl.center) for cl in clusters]\n",
    "counter = 0\n",
    "results = []\n",
    "init = time.time()\n",
    "for i, example in examples:\n",
    "    counter += 1\n",
    "    result = minDistJIT(localClusters, example.item)\n",
    "    results.append(result)\n",
    "elapsed = time.time() - init\n",
    "len(results)\n",
    "print(f'minasOnline testSamples {elapsed} seconds, consumed {counter} items, {int(counter / elapsed)} i/s')"
   ]
  },
  {
   "cell_type": "code",
   "execution_count": 26,
   "metadata": {},
   "outputs": [
    {
     "name": "stdout",
     "output_type": "stream",
     "text": [
      "(0.0, 0)\n",
      "CPU times: user 464 ms, sys: 0 ns, total: 464 ms\n",
      "Wall time: 462 ms\n"
     ]
    }
   ],
   "source": [
    "%%time\n",
    "from numba import jit\n",
    "import dask\n",
    "\n",
    "@dask.delayed\n",
    "@jit(nopython=True)\n",
    "def minDistJIT(clusters, item):\n",
    "    dists = []\n",
    "    for cl in clusters:\n",
    "        center = cl[1]\n",
    "        d = np.sum((center - item) ** 2) ** (1/2)\n",
    "        # return (d, cl[0])\n",
    "        dists.append((d, cl[0]))\n",
    "    # dists = map(lambda cl: (sum((cl[1] - item) ** 2) ** (1/2), cl[0]), clusters)\n",
    "    min_d: int = -1\n",
    "    min_clId: int = -1\n",
    "    for d, clId in dists:\n",
    "        if min_d == -1 or min_d > d:\n",
    "            min_d = d\n",
    "            min_clId = clId\n",
    "    return min_d, min_clId\n",
    "r = minDistJIT(clusters=[ (0, np.array([0,0])) ], item=np.array([0,0]))\n",
    "print(r.compute())"
   ]
  },
  {
   "cell_type": "code",
   "execution_count": 27,
   "metadata": {},
   "outputs": [
    {
     "name": "stdout",
     "output_type": "stream",
     "text": [
      "minasOnline testSamples 17.49715542793274 seconds, consumed 200 items, 11 i/s\n"
     ]
    }
   ],
   "source": [
    "localClusters = [(id(cl), cl.center) for cl in clusters]\n",
    "counter = 0\n",
    "results = []\n",
    "init = time.time()\n",
    "for i, example in examples:\n",
    "    counter += 1\n",
    "    result = minDistJIT(localClusters, example.item)\n",
    "    results.append(result.compute())\n",
    "elapsed = time.time() - init\n",
    "len(results)\n",
    "print(f'minasOnline testSamples {elapsed} seconds, consumed {counter} items, {int(counter / elapsed)} i/s')"
   ]
  },
  {
   "cell_type": "code",
   "execution_count": null,
   "metadata": {},
   "outputs": [],
   "source": []
  }
 ],
 "metadata": {
  "kernelspec": {
   "display_name": "Python 3",
   "language": "python",
   "name": "python3"
  },
  "language_info": {
   "codemirror_mode": {
    "name": "ipython",
    "version": 3
   },
   "file_extension": ".py",
   "mimetype": "text/x-python",
   "name": "python",
   "nbconvert_exporter": "python",
   "pygments_lexer": "ipython3",
   "version": "3.7.3"
  }
 },
 "nbformat": 4,
 "nbformat_minor": 2
}
