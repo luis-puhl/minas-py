{
 "cells": [
  {
   "cell_type": "markdown",
   "metadata": {},
   "source": [
    "# MINAS\n",
    "\n",
    "$$\\large \\lfloor_{0 \\le i\\le k} \\sum_{0 \\le j \\le n} (M_{i, c_{j}} - x_{j})^2 \\rfloor < M_{i, r}$$"
   ]
  },
  {
   "cell_type": "code",
   "execution_count": null,
   "metadata": {},
   "outputs": [],
   "source": [
    "# Install everything\n",
    "!python -m pip install \"dask[complete]\""
   ]
  },
  {
   "cell_type": "markdown",
   "metadata": {},
   "source": [
    "# MINAS"
   ]
  },
  {
   "cell_type": "markdown",
   "metadata": {},
   "source": [
    "$$\\large \\lfloor_{0 \\le i\\le k} \\sum_{0 \\le j \\le n} (M_{i, c_{j}} - x_{j})^2 \\rfloor < M_{i, r}$$\n",
    "\n",
    "## Classify\n",
    "\n",
    "$$P \\in C_1 \\iff function"
   ]
  },
  {
   "cell_type": "markdown",
   "metadata": {},
   "source": [
    "# Data Sets\n",
    "\n",
    "## Forest Cover Type (FCT) (Frank and Asuncion 2010)\n",
    "\n",
    "File `./ref/forest-cover-type-dataset/covtype.csv` found on [kaggle.com](https://www.kaggle.com/uciml/forest-cover-type-dataset/version/1)\n",
    "\n",
    "### About this file\n",
    "Cartographic variables of 581,012 measurements. The columns include the following dummy variables:\n",
    "\n",
    "**Wilderness Area** (4 dummy variable binary columns, 0 = absence or 1 = presence): Wilderness area designation. Key is:\n",
    "\n",
    "1. Rawah Wilderness Area\n",
    "2. Neota Wilderness Area\n",
    "3. Comanche Peak Wilderness Area\n",
    "4. Cache la Poudre Wilderness Area\n",
    "\n",
    "**Soil Type***\n",
    "(40 dummy variable binary columns, 0 = absence or 1 = presence): Soil Type designation. Options are:\n",
    "\n",
    "1. Cathedral family - Rock outcrop complex, extremely stony\n",
    "2. Vanet - Ratake families complex, very stony\n",
    "3. Haploborolis - Rock outcrop complex, rubbly\n",
    "4. Ratake family - Rock outcrop complex, rubbly\n",
    "5. Vanet family - Rock outcrop complex complex, rubbly\n",
    "6. Vanet - Wetmore families - Rock outcrop complex, stony\n",
    "7. Gothic family\n",
    "8. Supervisor - Limber families complex\n",
    "9. Troutville family, very stony\n",
    "10. Bullwark - Catamount families - Rock outcrop complex, rubbly\n",
    "11. Bullwark - Catamount families - Rock land complex, rubbly. 12 Legault family - Rock land complex, stony\n",
    "12. Unknown\n",
    "13. Catamount family - Rock land - Bullwark family complex, rubbly\n",
    "14. Pachic Argiborolis - Aquolis complex\n",
    "15. unspecified in the USFS Soil and ELU Survey\n",
    "16. Cryaquolis - Cryoborolis complex\n",
    "17. Gateview family - Cryaquolis complex\n",
    "18. Rogert family, very stony\n",
    "19. Typic Cryaquolis - Borohemists complex\n",
    "20. Typic Cryaquepts - Typic Cryaquolls complex\n",
    "21. Typic Cryaquolls - Leighcan family, till substratum complex\n",
    "22. Leighcan family, till substratum, extremely bouldery\n",
    "23. Leighcan family, till substratum - Typic Cryaquolls complex\n",
    "24. Leighcan family, extremely stony\n",
    "25. Leighcan family, warm, extremely stony\n",
    "26. Granile - Catamount families complex, very stony\n",
    "27. Leighcan family, warm - Rock outcrop complex, extremely stony\n",
    "28. Leighcan family - Rock outcrop complex, extremely stony\n",
    "29. Como - Legault families complex, extremely stony\n",
    "30. Como family - Rock land - Legault family complex, extremely stony\n",
    "31. Leighcan - Catamount families complex, extremely stony\n",
    "32. Catamount family - Rock outcrop - Leighcan family complex, extremely stony\n",
    "33. Leighcan - Catamount families - Rock outcrop complex, extremely stony\n",
    "34. Cryorthents - Rock land complex, extremely stony\n",
    "35. Cryumbrepts - Rock outcrop - Cryaquepts complex\n",
    "36. Bross family - Rock land - Cryumbrepts complex, extremely stony\n",
    "37. Rock outcrop - Cryumbrepts - Cryorthents complex, extremely stony\n",
    "38. Leighcan - Moran families - Cryaquolls complex, extremely stony\n",
    "39. Moran family - Cryorthents - Leighcan family complex, extremely stony\n",
    "40. Moran family - Cryorthents - Rock land complex, extremely stony\n",
    "\n",
    "### Columns\n",
    "- **ElevationElevation** in meters.\n",
    "- **AspectAspect** in degrees azimuth.\n",
    "- **SlopeSlope** in degrees.\n",
    "- **Horizontal_Distance_To_HydrologyHorizontal** distance to nearest surface water features.\n",
    "- **Vertical_Distance_To_HydrologyVertical** distance to nearest surface water features.\n",
    "- **Horizontal_Distance_To_RoadwaysHorizontal** distance to nearest roadway.\n",
    "- **Hillshade_9amHill** shade index at 9am, summer solstice. Value out of 255.\n",
    "- **Hillshade_NoonHill** shade index at noon, summer solstice. Value out of 255.\n",
    "- **Hillshade_3pmHill** shade index at 3pm, summer solstice. Value out of 255.\n",
    "- **Horizontal_Distance_To_Fire_PointsHorizontal** distance to nearest wildfire ignition points.\n",
    "- **Wilderness_Area1**\n",
    "- **Wilderness_Area2**\n",
    "- **Wilderness_Area3**\n",
    "- **Wilderness_Area4**\n",
    "- **Soil_Type1**\n",
    "- **Soil_Type2**\n",
    "- **Soil_Type3**\n",
    "- **Soil_Type4**\n",
    "- **Soil_Type5**\n",
    "- **Soil_Type6**\n",
    "- **Soil_Type7**\n",
    "- **Soil_Type8**\n",
    "- **Soil_Type9**\n",
    "- **Soil_Type10**\n",
    "- **Soil_Type11**\n",
    "- **Soil_Type12**\n",
    "- **Soil_Type13**\n",
    "- **Soil_Type14**\n",
    "- **Soil_Type15**\n",
    "- **Soil_Type16**\n",
    "- **Soil_Type17**\n",
    "- **Soil_Type18**\n",
    "- **Soil_Type19**\n",
    "- **Soil_Type20**\n",
    "- **Soil_Type21**\n",
    "- **Soil_Type22**\n",
    "- **Soil_Type23**\n",
    "- **Soil_Type24**\n",
    "- **Soil_Type25**\n",
    "- **Soil_Type26**\n",
    "- **Soil_Type27**\n",
    "- **Soil_Type28**\n",
    "- **Soil_Type29**\n",
    "- **Soil_Type30**\n",
    "- **Soil_Type31**\n",
    "- **Soil_Type32**\n",
    "- **Soil_Type33**\n",
    "- **Soil_Type34**\n",
    "- **Soil_Type35**\n",
    "- **Soil_Type36**\n",
    "- **Soil_Type37**\n",
    "- **Soil_Type38**\n",
    "- **Soil_Type39**\n",
    "- **Soil_Type40**\n",
    "- **Cover_Type** Forest Cover Type designation. Integer value between 1 and 7, with the following key:\n",
    "  - Spruce/Fir\n",
    "  - Lodgepole Pine\n",
    "  - Ponderosa Pine\n",
    "  - Cottonwood/Willow\n",
    "  - Aspen\n",
    "  - Douglas-fir\n",
    "  - Krummholz"
   ]
  },
  {
   "cell_type": "code",
   "execution_count": null,
   "metadata": {},
   "outputs": [],
   "source": [
    "import numpy as np\n",
    "my_data = np.genfromtxt('./ref/forest-cover-type-dataset/covtype.csv', delimiter=',')\n",
    "my_data"
   ]
  },
  {
   "cell_type": "code",
   "execution_count": null,
   "metadata": {},
   "outputs": [],
   "source": [
    "import pandas as pd\n",
    "df = pd.read_csv('./ref/forest-cover-type-dataset/covtype.csv', sep=',')\n",
    "df"
   ]
  },
  {
   "cell_type": "code",
   "execution_count": 60,
   "metadata": {},
   "outputs": [
    {
     "name": "stdout",
     "output_type": "stream",
     "text": [
      "0 476 476 476 blue Class #0\n",
      "1 785 785 785 blue Class #1\n",
      "2 936 936 936 blue Class #2\n"
     ]
    },
    {
     "data": {
      "image/png": "[encoded data removed]",
      "text/plain": [
       "<Figure size 432x288 with 1 Axes>"
      ]
     },
     "metadata": {
      "needs_background": "light"
     },
     "output_type": "display_data"
    }
   ],
   "source": [
    "class Example:\n",
    "    label = None\n",
    "    index = 0\n",
    "    item = []\n",
    "\n",
    "# setup fake examples\n",
    "import random as random\n",
    "import numpy as np\n",
    "attributes = np.random.randint(2, 40)\n",
    "examples = []\n",
    "for labelIndex in range(np.random.randint(2, 5)):\n",
    "    mu = random.random() * 10\n",
    "    sigma = random.random() * 5\n",
    "    for exampleIndex in range(np.random.randint(200, 1000)):\n",
    "        example = Example()\n",
    "        example.index = labelIndex\n",
    "        example.label = 'Class #' + str(labelIndex)\n",
    "        example.item = [np.random.normal(loc=mu, scale=sigma) for i in range(attributes)]\n",
    "        examples.append(example)\n",
    "examples\n",
    "\n",
    "import matplotlib.pyplot as plt\n",
    "\n",
    "fig, ax = plt.subplots()\n",
    "for i in set([ex.index for ex in examples]):\n",
    "    exs = [ex for ex in examples if ex.index == i]\n",
    "    x=np.array([ex.item[0] for ex in exs])\n",
    "    y=np.array([ex.item[1] for ex in exs])\n",
    "    label=[ex.label for ex in examples if ex.index == i][0]\n",
    "    print(i, len(exs), len(x), len(y), c, label)\n",
    "    ax.scatter(x=x, y=y, label=label)\n",
    "\n",
    "ax.legend()\n",
    "ax.grid(True)\n",
    "\n",
    "plt.show()"
   ]
  },
  {
   "cell_type": "markdown",
   "metadata": {},
   "source": [
    "# Dask"
   ]
  },
  {
   "cell_type": "code",
   "execution_count": null,
   "metadata": {},
   "outputs": [],
   "source": [
    "!pip list\n",
    "\n",
    "# Install everything\n",
    "!python -m pip install \"dask[complete]\"\n",
    "\n",
    "# Client\n",
    "from dask.distributed import Client\n",
    "client = Client()\n",
    "\n",
    "# LocalCluster"
   ]
  },
  {
   "cell_type": "code",
   "execution_count": null,
   "metadata": {},
   "outputs": [],
   "source": []
  }
 ],
 "metadata": {
  "kernelspec": {
   "display_name": "Python 3",
   "language": "python",
   "name": "python3"
  },
  "language_info": {
   "codemirror_mode": {
    "name": "ipython",
    "version": 3
   },
   "file_extension": ".py",
   "mimetype": "text/x-python",
   "name": "python",
   "nbconvert_exporter": "python",
   "pygments_lexer": "ipython3",
   "version": "3.7.3"
  }
 },
 "nbformat": 4,
 "nbformat_minor": 2
}
