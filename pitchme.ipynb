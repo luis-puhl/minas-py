{
 "cells": [
  {
   "cell_type": "markdown",
   "metadata": {},
   "source": [
    "# MINAS\n",
    "\n",
    "$$\\large \\lfloor_{0 \\le i\\le k} \\sum_{0 \\le j \\le n} (M_{i, c_{j}} - x_{j})^2 \\rfloor < M_{i, r}$$\n",
    "\n",
    "## Classify\n",
    "\n",
    "$$P \\in C_1 \\iff function"
   ]
  },
  {
   "cell_type": "code",
   "execution_count": null,
   "metadata": {},
   "outputs": [],
   "source": [
    "import minas\n"
   ]
  },
  {
   "cell_type": "markdown",
   "metadata": {},
   "source": [
    "# Data Sets\n",
    "\n",
    "## Forest Cover Type (FCT) (Frank and Asuncion 2010)\n",
    "\n",
    "File `./ref/forest-cover-type-dataset/covtype.csv` found on [kaggle.com](https://www.kaggle.com/uciml/forest-cover-type-dataset/version/1)\n"
   ]
  },
  {
   "cell_type": "code",
   "execution_count": null,
   "metadata": {},
   "outputs": [],
   "source": [
    "import numpy as np\n",
    "my_data = np.genfromtxt('./ref/forest-cover-type-dataset/covtype.csv', delimiter=',')\n",
    "my_data"
   ]
  },
  {
   "cell_type": "code",
   "execution_count": null,
   "metadata": {},
   "outputs": [],
   "source": [
    "import pandas as pd\n",
    "df = pd.read_csv('./ref/forest-cover-type-dataset/covtype.csv', sep=',')\n",
    "df"
   ]
  },
  {
   "cell_type": "code",
   "execution_count": null,
   "metadata": {},
   "outputs": [],
   "source": [
    "class Example:\n",
    "    label = None\n",
    "    index = 0\n",
    "    item = []\n",
    "\n",
    "# setup fake examples\n",
    "import random as random\n",
    "import numpy as np\n",
    "attributes = np.random.randint(2, 40)\n",
    "examples = []\n",
    "for labelIndex in range(np.random.randint(2, 5)):\n",
    "    mu = random.random() * 10\n",
    "    sigma = random.random() * 5\n",
    "    for exampleIndex in range(np.random.randint(200, 1000)):\n",
    "        example = Example()\n",
    "        example.index = labelIndex\n",
    "        example.label = 'Class #' + str(labelIndex)\n",
    "        example.item = [np.random.normal(loc=mu, scale=sigma) for i in range(attributes)]\n",
    "        examples.append(example)\n",
    "examples\n",
    "\n",
    "import matplotlib.pyplot as plt\n",
    "\n",
    "fig, ax = plt.subplots()\n",
    "for i in set([ex.index for ex in examples]):\n",
    "    exs = [ex for ex in examples if ex.index == i]\n",
    "    x=np.array([ex.item[0] for ex in exs])\n",
    "    y=np.array([ex.item[1] for ex in exs])\n",
    "    label=[ex.label for ex in examples if ex.index == i][0]\n",
    "    print(i, len(exs), len(x), len(y), c, label)\n",
    "    ax.scatter(x=x, y=y, label=label)\n",
    "\n",
    "ax.legend()\n",
    "ax.grid(True)\n",
    "\n",
    "plt.show()"
   ]
  },
  {
   "cell_type": "markdown",
   "metadata": {},
   "source": [
    "# Dask"
   ]
  },
  {
   "cell_type": "code",
   "execution_count": null,
   "metadata": {},
   "outputs": [],
   "source": [
    "!pip list\n",
    "\n",
    "# Install everything\n",
    "!python -m pip install \"dask[complete]\"\n",
    "\n",
    "# Client\n",
    "from dask.distributed import Client\n",
    "client = Client()\n",
    "\n",
    "# LocalCluster"
   ]
  },
  {
   "cell_type": "code",
   "execution_count": null,
   "metadata": {},
   "outputs": [],
   "source": [
    "import minas as md\n",
    "md.selfTest()"
   ]
  }
 ],
 "metadata": {
  "kernelspec": {
   "display_name": "Python 3",
   "language": "python",
   "name": "python3"
  },
  "language_info": {
   "codemirror_mode": {
    "name": "ipython",
    "version": 3
   },
   "file_extension": ".py",
   "mimetype": "text/x-python",
   "name": "python",
   "nbconvert_exporter": "python",
   "pygments_lexer": "ipython3",
   "version": "3.7.3"
  }
 },
 "nbformat": 4,
 "nbformat_minor": 2
}
